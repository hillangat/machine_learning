{
 "cells": [
  {
   "cell_type": "markdown",
   "metadata": {},
   "source": [
    "## IMPORTS"
   ]
  },
  {
   "cell_type": "code",
   "execution_count": 1,
   "metadata": {},
   "outputs": [
    {
     "name": "stderr",
     "output_type": "stream",
     "text": [
      "Using TensorFlow backend.\n"
     ]
    }
   ],
   "source": [
    "import keras\n",
    "import pandas as pd\n",
    "from keras import backend as k\n",
    "from keras.models import Sequential\n",
    "from keras.layers import Activation\n",
    "from keras.layers.core import Dense\n",
    "from keras.optimizers import Adam\n",
    "from keras.metrics import categorical_crossentropy\n",
    "from sklearn.preprocessing import MinMaxScaler\n",
    "\n",
    "%matplotlib inline\n",
    "from sklearn.metrics import confusion_matrix\n",
    "import itertools\n",
    "import matplotlib.pyplot as plt"
   ]
  },
  {
   "cell_type": "markdown",
   "metadata": {},
   "source": [
    "## PRE-PROCESSING"
   ]
  },
  {
   "cell_type": "code",
   "execution_count": 18,
   "metadata": {},
   "outputs": [
    {
     "name": "stdout",
     "output_type": "stream",
     "text": [
      "\n",
      "....................................Training samples..........................\n",
      "\n",
      "[[2.15329700e+06 1.29197820e+05 2.02409918e+06 2.02409918e+06\n",
      "  1.30033154e+00]\n",
      " [3.67861000e+06 1.54501620e+06 2.13359380e+06 2.13359380e+06\n",
      "  4.07762715e-01]\n",
      " [2.34382900e+06 5.15642380e+05 1.82818662e+06 1.82818662e+06\n",
      "  2.51724849e+00]\n",
      " ...\n",
      " [9.56326000e+06 1.05195860e+06 8.51130140e+06 8.51130140e+06\n",
      "  1.25480223e-01]\n",
      " [8.75189600e+06 2.53804984e+06 6.21384616e+06 6.21384616e+06\n",
      "  5.48452587e-01]\n",
      " [6.18436800e+06 3.95799552e+06 2.22637248e+06 2.22637248e+06\n",
      "  8.08490051e-01]]\n",
      "\n",
      "....................................Testing samples..........................\n",
      "\n",
      "[[1.68299100e+06 1.00979460e+05 1.58201154e+06 1.58201154e+06\n",
      "  2.49555702e+00]\n",
      " [4.94481600e+06 4.94481600e+05 4.45033440e+06 4.45033440e+06\n",
      "  2.02231994e-01]\n",
      " [2.03001500e+06 7.30805400e+05 1.29920960e+06 1.29920960e+06\n",
      "  2.06895023e+00]\n",
      " ...\n",
      " [6.04216600e+06 2.77939636e+06 3.26276964e+06 3.26276964e+06\n",
      "  6.78564607e-01]\n",
      " [4.45288800e+06 1.78115520e+05 4.27477248e+06 4.27477248e+06\n",
      "  6.96177402e-01]\n",
      " [7.74854700e+06 3.48684615e+06 4.26170085e+06 4.26170085e+06\n",
      "  1.54867745e-01]]\n"
     ]
    }
   ],
   "source": [
    "file_data = pd.read_csv('client_data2.csv')\n",
    "client_data = file_data.head(1000)\n",
    "test_client_data = file_data.tail(500)\n",
    "\n",
    "client_data.columns\n",
    "\n",
    "training_labels  = client_data.margin_called.to_numpy()\n",
    "training_samples = client_data.drop(['ecis', 'margin_called'], axis=1)\n",
    "training_samples = training_samples.to_numpy()\n",
    "\n",
    "print('\\n....................................Training samples..........................\\n'.format(test_training_samples))\n",
    "print(training_samples)\n",
    "\n",
    "test_training_labels  = test_client_data.margin_called.to_numpy()\n",
    "test_training_samples = test_client_data.drop(['ecis', 'margin_called'], axis=1)\n",
    "test_training_samples = test_training_samples.to_numpy()\n",
    "print('\\n....................................Testing samples..........................\\n'.format(test_training_samples))\n",
    "print(test_training_samples)"
   ]
  },
  {
   "cell_type": "markdown",
   "metadata": {},
   "source": [
    "## SCALLING"
   ]
  },
  {
   "cell_type": "code",
   "execution_count": 19,
   "metadata": {},
   "outputs": [
    {
     "data": {
      "text/plain": [
       "array([[0.20713481, 0.02035281, 0.20937947, 0.20937947, 0.02295285],\n",
       "       [0.36137762, 0.24855612, 0.22096985, 0.22096985, 0.00707546],\n",
       "       [0.2264018 , 0.08264041, 0.18864146, 0.18864146, 0.04459988],\n",
       "       ...,\n",
       "       [0.95644561, 0.1690845 , 0.89607202, 0.89607202, 0.0020541 ],\n",
       "       [0.8743988 , 0.40861448, 0.65287852, 0.65287852, 0.00957811],\n",
       "       [0.61476506, 0.63748304, 0.23079079, 0.23079079, 0.01420377]])"
      ]
     },
     "execution_count": 19,
     "metadata": {},
     "output_type": "execute_result"
    }
   ],
   "source": [
    "scaler = MinMaxScaler(feature_range=(0,1))\n",
    "scaled_train_samples = scaler.fit_transform(training_samples)\n",
    "scaled_train_samples"
   ]
  },
  {
   "cell_type": "markdown",
   "metadata": {},
   "source": [
    "## COMPILE"
   ]
  },
  {
   "cell_type": "code",
   "execution_count": 20,
   "metadata": {},
   "outputs": [
    {
     "name": "stdout",
     "output_type": "stream",
     "text": [
      "_________________________________________________________________\n",
      "Layer (type)                 Output Shape              Param #   \n",
      "=================================================================\n",
      "dense_4 (Dense)              (None, 16)                96        \n",
      "_________________________________________________________________\n",
      "dense_5 (Dense)              (None, 32)                544       \n",
      "_________________________________________________________________\n",
      "dense_6 (Dense)              (None, 2)                 66        \n",
      "=================================================================\n",
      "Total params: 706\n",
      "Trainable params: 706\n",
      "Non-trainable params: 0\n",
      "_________________________________________________________________\n"
     ]
    }
   ],
   "source": [
    "model = Sequential([\n",
    "    Dense(16, input_shape=(5,), activation='relu'),\n",
    "    Dense(32, activation='relu'),\n",
    "    Dense(2, activation='softmax')\n",
    "])\n",
    "\n",
    "model.compile(Adam(lr=0.0001), loss='sparse_categorical_crossentropy', metrics=['accuracy'])\n",
    "\n",
    "model.summary()"
   ]
  },
  {
   "cell_type": "markdown",
   "metadata": {},
   "source": [
    "## FITTING"
   ]
  },
  {
   "cell_type": "code",
   "execution_count": 5,
   "metadata": {},
   "outputs": [
    {
     "name": "stdout",
     "output_type": "stream",
     "text": [
      "WARNING:tensorflow:From C:\\Users\\hillangat\\Miniconda3\\envs\\machine_learning\\lib\\site-packages\\tensorflow\\python\\ops\\math_ops.py:3066: to_int32 (from tensorflow.python.ops.math_ops) is deprecated and will be removed in a future version.\n",
      "Instructions for updating:\n",
      "Use tf.cast instead.\n",
      "Train on 800 samples, validate on 200 samples\n",
      "Epoch 1/100\n",
      " - 1s - loss: 0.6480 - acc: 0.8375 - val_loss: 0.6131 - val_acc: 0.8700\n",
      "Epoch 2/100\n",
      " - 0s - loss: 0.5898 - acc: 0.8537 - val_loss: 0.5569 - val_acc: 0.8700\n",
      "Epoch 3/100\n",
      " - 0s - loss: 0.5419 - acc: 0.8537 - val_loss: 0.5111 - val_acc: 0.8700\n",
      "Epoch 4/100\n",
      " - 0s - loss: 0.5026 - acc: 0.8537 - val_loss: 0.4726 - val_acc: 0.8700\n",
      "Epoch 5/100\n",
      " - 0s - loss: 0.4697 - acc: 0.8537 - val_loss: 0.4406 - val_acc: 0.8700\n",
      "Epoch 6/100\n",
      " - 0s - loss: 0.4431 - acc: 0.8537 - val_loss: 0.4150 - val_acc: 0.8700\n",
      "Epoch 7/100\n",
      " - 0s - loss: 0.4223 - acc: 0.8537 - val_loss: 0.3950 - val_acc: 0.8700\n",
      "Epoch 8/100\n",
      " - 0s - loss: 0.4065 - acc: 0.8537 - val_loss: 0.3791 - val_acc: 0.8700\n",
      "Epoch 9/100\n",
      " - 0s - loss: 0.3939 - acc: 0.8537 - val_loss: 0.3666 - val_acc: 0.8700\n",
      "Epoch 10/100\n",
      " - 0s - loss: 0.3834 - acc: 0.8537 - val_loss: 0.3556 - val_acc: 0.8700\n",
      "Epoch 11/100\n",
      " - 0s - loss: 0.3739 - acc: 0.8537 - val_loss: 0.3461 - val_acc: 0.8700\n",
      "Epoch 12/100\n",
      " - 0s - loss: 0.3652 - acc: 0.8537 - val_loss: 0.3372 - val_acc: 0.8700\n",
      "Epoch 13/100\n",
      " - 0s - loss: 0.3568 - acc: 0.8537 - val_loss: 0.3288 - val_acc: 0.8700\n",
      "Epoch 14/100\n",
      " - 0s - loss: 0.3489 - acc: 0.8537 - val_loss: 0.3218 - val_acc: 0.8700\n",
      "Epoch 15/100\n",
      " - 0s - loss: 0.3418 - acc: 0.8537 - val_loss: 0.3150 - val_acc: 0.8700\n",
      "Epoch 16/100\n",
      " - 0s - loss: 0.3351 - acc: 0.8537 - val_loss: 0.3084 - val_acc: 0.8700\n",
      "Epoch 17/100\n",
      " - 0s - loss: 0.3280 - acc: 0.8537 - val_loss: 0.3023 - val_acc: 0.8700\n",
      "Epoch 18/100\n",
      " - 0s - loss: 0.3213 - acc: 0.8537 - val_loss: 0.2956 - val_acc: 0.8700\n",
      "Epoch 19/100\n",
      " - 0s - loss: 0.3147 - acc: 0.8537 - val_loss: 0.2892 - val_acc: 0.8700\n",
      "Epoch 20/100\n",
      " - 0s - loss: 0.3079 - acc: 0.8537 - val_loss: 0.2828 - val_acc: 0.8700\n",
      "Epoch 21/100\n",
      " - 0s - loss: 0.3013 - acc: 0.8537 - val_loss: 0.2763 - val_acc: 0.8700\n",
      "Epoch 22/100\n",
      " - 0s - loss: 0.2946 - acc: 0.8537 - val_loss: 0.2700 - val_acc: 0.8700\n",
      "Epoch 23/100\n",
      " - 0s - loss: 0.2881 - acc: 0.8537 - val_loss: 0.2636 - val_acc: 0.8700\n",
      "Epoch 24/100\n",
      " - 0s - loss: 0.2815 - acc: 0.8537 - val_loss: 0.2575 - val_acc: 0.8700\n",
      "Epoch 25/100\n",
      " - 0s - loss: 0.2752 - acc: 0.8537 - val_loss: 0.2510 - val_acc: 0.8700\n",
      "Epoch 26/100\n",
      " - 0s - loss: 0.2691 - acc: 0.8537 - val_loss: 0.2452 - val_acc: 0.8700\n",
      "Epoch 27/100\n",
      " - 0s - loss: 0.2631 - acc: 0.8550 - val_loss: 0.2393 - val_acc: 0.8800\n",
      "Epoch 28/100\n",
      " - 0s - loss: 0.2568 - acc: 0.8612 - val_loss: 0.2334 - val_acc: 0.8900\n",
      "Epoch 29/100\n",
      " - 0s - loss: 0.2509 - acc: 0.8812 - val_loss: 0.2276 - val_acc: 0.8950\n",
      "Epoch 30/100\n",
      " - 0s - loss: 0.2454 - acc: 0.8850 - val_loss: 0.2219 - val_acc: 0.9000\n",
      "Epoch 31/100\n",
      " - 0s - loss: 0.2401 - acc: 0.8862 - val_loss: 0.2166 - val_acc: 0.9100\n",
      "Epoch 32/100\n",
      " - 0s - loss: 0.2349 - acc: 0.8912 - val_loss: 0.2119 - val_acc: 0.9100\n",
      "Epoch 33/100\n",
      " - 0s - loss: 0.2302 - acc: 0.8987 - val_loss: 0.2068 - val_acc: 0.9200\n",
      "Epoch 34/100\n",
      " - 0s - loss: 0.2254 - acc: 0.8975 - val_loss: 0.2022 - val_acc: 0.9250\n",
      "Epoch 35/100\n",
      " - 0s - loss: 0.2207 - acc: 0.9100 - val_loss: 0.1981 - val_acc: 0.9250\n",
      "Epoch 36/100\n",
      " - 0s - loss: 0.2164 - acc: 0.9137 - val_loss: 0.1934 - val_acc: 0.9250\n",
      "Epoch 37/100\n",
      " - 0s - loss: 0.2123 - acc: 0.9125 - val_loss: 0.1895 - val_acc: 0.9300\n",
      "Epoch 38/100\n",
      " - 0s - loss: 0.2086 - acc: 0.9175 - val_loss: 0.1859 - val_acc: 0.9450\n",
      "Epoch 39/100\n",
      " - 0s - loss: 0.2045 - acc: 0.9225 - val_loss: 0.1825 - val_acc: 0.9500\n",
      "Epoch 40/100\n",
      " - 0s - loss: 0.2007 - acc: 0.9225 - val_loss: 0.1790 - val_acc: 0.9500\n",
      "Epoch 41/100\n",
      " - 0s - loss: 0.1971 - acc: 0.9237 - val_loss: 0.1760 - val_acc: 0.9550\n",
      "Epoch 42/100\n",
      " - 0s - loss: 0.1938 - acc: 0.9237 - val_loss: 0.1731 - val_acc: 0.9550\n",
      "Epoch 43/100\n",
      " - 0s - loss: 0.1906 - acc: 0.9262 - val_loss: 0.1703 - val_acc: 0.9500\n",
      "Epoch 44/100\n",
      " - 0s - loss: 0.1876 - acc: 0.9287 - val_loss: 0.1676 - val_acc: 0.9500\n",
      "Epoch 45/100\n",
      " - 0s - loss: 0.1841 - acc: 0.9312 - val_loss: 0.1646 - val_acc: 0.9550\n",
      "Epoch 46/100\n",
      " - 0s - loss: 0.1810 - acc: 0.9312 - val_loss: 0.1619 - val_acc: 0.9550\n",
      "Epoch 47/100\n",
      " - 0s - loss: 0.1782 - acc: 0.9312 - val_loss: 0.1596 - val_acc: 0.9500\n",
      "Epoch 48/100\n",
      " - 0s - loss: 0.1755 - acc: 0.9300 - val_loss: 0.1570 - val_acc: 0.9500\n",
      "Epoch 49/100\n",
      " - 0s - loss: 0.1723 - acc: 0.9325 - val_loss: 0.1550 - val_acc: 0.9500\n",
      "Epoch 50/100\n",
      " - 0s - loss: 0.1697 - acc: 0.9350 - val_loss: 0.1527 - val_acc: 0.9500\n",
      "Epoch 51/100\n",
      " - 0s - loss: 0.1675 - acc: 0.9375 - val_loss: 0.1511 - val_acc: 0.9550\n",
      "Epoch 52/100\n",
      " - 0s - loss: 0.1643 - acc: 0.9375 - val_loss: 0.1481 - val_acc: 0.9550\n",
      "Epoch 53/100\n",
      " - 0s - loss: 0.1617 - acc: 0.9375 - val_loss: 0.1464 - val_acc: 0.9550\n",
      "Epoch 54/100\n",
      " - 0s - loss: 0.1595 - acc: 0.9400 - val_loss: 0.1441 - val_acc: 0.9550\n",
      "Epoch 55/100\n",
      " - 0s - loss: 0.1566 - acc: 0.9412 - val_loss: 0.1420 - val_acc: 0.9550\n",
      "Epoch 56/100\n",
      " - 0s - loss: 0.1541 - acc: 0.9437 - val_loss: 0.1400 - val_acc: 0.9550\n",
      "Epoch 57/100\n",
      " - 0s - loss: 0.1520 - acc: 0.9437 - val_loss: 0.1381 - val_acc: 0.9550\n",
      "Epoch 58/100\n",
      " - 0s - loss: 0.1494 - acc: 0.9450 - val_loss: 0.1368 - val_acc: 0.9600\n",
      "Epoch 59/100\n",
      " - 0s - loss: 0.1471 - acc: 0.9462 - val_loss: 0.1346 - val_acc: 0.9600\n",
      "Epoch 60/100\n",
      " - 0s - loss: 0.1447 - acc: 0.9462 - val_loss: 0.1326 - val_acc: 0.9600\n",
      "Epoch 61/100\n",
      " - 0s - loss: 0.1426 - acc: 0.9500 - val_loss: 0.1316 - val_acc: 0.9600\n",
      "Epoch 62/100\n",
      " - 0s - loss: 0.1404 - acc: 0.9500 - val_loss: 0.1287 - val_acc: 0.9650\n",
      "Epoch 63/100\n",
      " - 0s - loss: 0.1383 - acc: 0.9500 - val_loss: 0.1276 - val_acc: 0.9700\n",
      "Epoch 64/100\n",
      " - 0s - loss: 0.1359 - acc: 0.9550 - val_loss: 0.1258 - val_acc: 0.9700\n",
      "Epoch 65/100\n",
      " - 0s - loss: 0.1339 - acc: 0.9550 - val_loss: 0.1239 - val_acc: 0.9700\n",
      "Epoch 66/100\n",
      " - 0s - loss: 0.1320 - acc: 0.9537 - val_loss: 0.1223 - val_acc: 0.9700\n",
      "Epoch 67/100\n",
      " - 0s - loss: 0.1298 - acc: 0.9575 - val_loss: 0.1205 - val_acc: 0.9700\n",
      "Epoch 68/100\n",
      " - 0s - loss: 0.1279 - acc: 0.9562 - val_loss: 0.1192 - val_acc: 0.9700\n",
      "Epoch 69/100\n",
      " - 0s - loss: 0.1259 - acc: 0.9575 - val_loss: 0.1179 - val_acc: 0.9700\n",
      "Epoch 70/100\n",
      " - 0s - loss: 0.1244 - acc: 0.9562 - val_loss: 0.1172 - val_acc: 0.9700\n",
      "Epoch 71/100\n",
      " - 0s - loss: 0.1223 - acc: 0.9587 - val_loss: 0.1150 - val_acc: 0.9700\n",
      "Epoch 72/100\n",
      " - 0s - loss: 0.1209 - acc: 0.9587 - val_loss: 0.1138 - val_acc: 0.9700\n",
      "Epoch 73/100\n",
      " - 0s - loss: 0.1189 - acc: 0.9600 - val_loss: 0.1128 - val_acc: 0.9700\n",
      "Epoch 74/100\n",
      " - 0s - loss: 0.1171 - acc: 0.9600 - val_loss: 0.1110 - val_acc: 0.9700\n",
      "Epoch 75/100\n",
      " - 0s - loss: 0.1156 - acc: 0.9600 - val_loss: 0.1102 - val_acc: 0.9700\n",
      "Epoch 76/100\n",
      " - 0s - loss: 0.1141 - acc: 0.9625 - val_loss: 0.1091 - val_acc: 0.9700\n",
      "Epoch 77/100\n",
      " - 0s - loss: 0.1126 - acc: 0.9637 - val_loss: 0.1076 - val_acc: 0.9700\n",
      "Epoch 78/100\n",
      " - 0s - loss: 0.1108 - acc: 0.9637 - val_loss: 0.1062 - val_acc: 0.9700\n",
      "Epoch 79/100\n",
      " - 0s - loss: 0.1096 - acc: 0.9637 - val_loss: 0.1054 - val_acc: 0.9700\n",
      "Epoch 80/100\n",
      " - 0s - loss: 0.1080 - acc: 0.9650 - val_loss: 0.1042 - val_acc: 0.9700\n",
      "Epoch 81/100\n",
      " - 0s - loss: 0.1066 - acc: 0.9650 - val_loss: 0.1035 - val_acc: 0.9700\n",
      "Epoch 82/100\n",
      " - 0s - loss: 0.1051 - acc: 0.9662 - val_loss: 0.1016 - val_acc: 0.9700\n",
      "Epoch 83/100\n",
      " - 0s - loss: 0.1037 - acc: 0.9662 - val_loss: 0.1006 - val_acc: 0.9700\n",
      "Epoch 84/100\n",
      " - 0s - loss: 0.1031 - acc: 0.9662 - val_loss: 0.0997 - val_acc: 0.9700\n",
      "Epoch 85/100\n",
      " - 0s - loss: 0.1012 - acc: 0.9687 - val_loss: 0.0984 - val_acc: 0.9700\n",
      "Epoch 86/100\n",
      " - 0s - loss: 0.0998 - acc: 0.9700 - val_loss: 0.0980 - val_acc: 0.9800\n",
      "Epoch 87/100\n",
      " - 0s - loss: 0.0986 - acc: 0.9675 - val_loss: 0.0969 - val_acc: 0.9800\n",
      "Epoch 88/100\n",
      " - 0s - loss: 0.0972 - acc: 0.9700 - val_loss: 0.0965 - val_acc: 0.9800\n",
      "Epoch 89/100\n",
      " - 0s - loss: 0.0958 - acc: 0.9687 - val_loss: 0.0947 - val_acc: 0.9800\n",
      "Epoch 90/100\n",
      " - 0s - loss: 0.0949 - acc: 0.9700 - val_loss: 0.0940 - val_acc: 0.9800\n",
      "Epoch 91/100\n",
      " - 0s - loss: 0.0936 - acc: 0.9725 - val_loss: 0.0930 - val_acc: 0.9800\n",
      "Epoch 92/100\n",
      " - 0s - loss: 0.0926 - acc: 0.9750 - val_loss: 0.0919 - val_acc: 0.9800\n",
      "Epoch 93/100\n",
      " - 0s - loss: 0.0915 - acc: 0.9737 - val_loss: 0.0912 - val_acc: 0.9800\n"
     ]
    },
    {
     "name": "stdout",
     "output_type": "stream",
     "text": [
      "Epoch 94/100\n",
      " - 0s - loss: 0.0905 - acc: 0.9712 - val_loss: 0.0904 - val_acc: 0.9800\n",
      "Epoch 95/100\n",
      " - 0s - loss: 0.0892 - acc: 0.9750 - val_loss: 0.0895 - val_acc: 0.9800\n",
      "Epoch 96/100\n",
      " - 0s - loss: 0.0885 - acc: 0.9750 - val_loss: 0.0890 - val_acc: 0.9800\n",
      "Epoch 97/100\n",
      " - 0s - loss: 0.0871 - acc: 0.9762 - val_loss: 0.0881 - val_acc: 0.9800\n",
      "Epoch 98/100\n",
      " - 0s - loss: 0.0863 - acc: 0.9762 - val_loss: 0.0874 - val_acc: 0.9750\n",
      "Epoch 99/100\n",
      " - 0s - loss: 0.0851 - acc: 0.9750 - val_loss: 0.0862 - val_acc: 0.9800\n",
      "Epoch 100/100\n",
      " - 0s - loss: 0.0841 - acc: 0.9775 - val_loss: 0.0857 - val_acc: 0.9850\n"
     ]
    },
    {
     "data": {
      "text/plain": [
       "<keras.callbacks.History at 0x14ea9d4bcc0>"
      ]
     },
     "execution_count": 5,
     "metadata": {},
     "output_type": "execute_result"
    }
   ],
   "source": [
    "model.fit(scaled_train_samples.squeeze(), training_labels, validation_split=0.2, batch_size=10, epochs=100, shuffle=True, verbose=2)"
   ]
  },
  {
   "cell_type": "markdown",
   "metadata": {},
   "source": [
    "# CONFUSION_MATRIX"
   ]
  },
  {
   "cell_type": "code",
   "execution_count": 22,
   "metadata": {},
   "outputs": [],
   "source": [
    "def plot_confusion_matrix(cm, classes, normalize=False, title='Margin Calls Confusion Matrix', cmap=plt.cm.Blues):\n",
    "    plt.imshow(cm, interpolation='nearest', cmap=cmap)\n",
    "    plt.title(title)\n",
    "    plt.colorbar()\n",
    "    tick_marks = np.arange(len(classes))\n",
    "    plt.xticks(tick_marks, classes, rotation=45)\n",
    "    plt.yticks(tick_marks, classes)\n",
    "    \n",
    "    if normalize:\n",
    "        cm = cm.astype('float')/cm.sum(axis=1)[:, np.newaxis]\n",
    "        print('Normalized confusion matrix')\n",
    "    else:\n",
    "        print('Confusion matrix, without normalization')\n",
    "\n",
    "    print(xm)\n",
    "    \n",
    "    thresh = cm.max()/2\n",
    "    \n",
    "    for i, j in itertools.product(range(cm.shape[0], range(cm.shape[1]))):\n",
    "        plt.text(j, i, xm[i, j], horizontalalignment='center', color='white' if cm[i, j] > thresh else 'black')\n",
    "        \n",
    "    plt.tight_layout()\n",
    "    plt.ylabel('Margin Call!')\n",
    "    plt.xlabel('No Margin Call :)')"
   ]
  },
  {
   "cell_type": "code",
   "execution_count": 25,
   "metadata": {},
   "outputs": [
    {
     "ename": "ValueError",
     "evalue": "Classification metrics can't handle a mix of binary and continuous-multioutput targets",
     "output_type": "error",
     "traceback": [
      "\u001b[1;31m---------------------------------------------------------------------------\u001b[0m",
      "\u001b[1;31mValueError\u001b[0m                                Traceback (most recent call last)",
      "\u001b[1;32m<ipython-input-25-bf810efa2359>\u001b[0m in \u001b[0;36m<module>\u001b[1;34m\u001b[0m\n\u001b[1;32m----> 1\u001b[1;33m \u001b[0mcm\u001b[0m \u001b[1;33m=\u001b[0m \u001b[0mconfusion_matrix\u001b[0m\u001b[1;33m(\u001b[0m\u001b[0mtest_training_labels\u001b[0m\u001b[1;33m,\u001b[0m \u001b[0mtest_training_samples\u001b[0m\u001b[1;33m)\u001b[0m\u001b[1;33m\u001b[0m\u001b[1;33m\u001b[0m\u001b[0m\n\u001b[0m\u001b[0;32m      2\u001b[0m \u001b[0mcm_plot_labels\u001b[0m \u001b[1;33m=\u001b[0m \u001b[1;33m[\u001b[0m\u001b[1;34m'Margin Called'\u001b[0m\u001b[1;33m,\u001b[0m \u001b[1;34m'Clean'\u001b[0m\u001b[1;33m]\u001b[0m\u001b[1;33m\u001b[0m\u001b[1;33m\u001b[0m\u001b[0m\n\u001b[0;32m      3\u001b[0m \u001b[0mplot_confusion_matrix\u001b[0m\u001b[1;33m(\u001b[0m\u001b[0mcm\u001b[0m\u001b[1;33m,\u001b[0m \u001b[0mcm_plot_labels\u001b[0m\u001b[1;33m,\u001b[0m \u001b[0mtitle\u001b[0m\u001b[1;33m=\u001b[0m\u001b[1;34m'Margin-called or not!!'\u001b[0m\u001b[1;33m)\u001b[0m\u001b[1;33m\u001b[0m\u001b[1;33m\u001b[0m\u001b[0m\n",
      "\u001b[1;32m~\\Miniconda3\\envs\\machine_learning\\lib\\site-packages\\sklearn\\metrics\\classification.py\u001b[0m in \u001b[0;36mconfusion_matrix\u001b[1;34m(y_true, y_pred, labels, sample_weight)\u001b[0m\n\u001b[0;32m    251\u001b[0m \u001b[1;33m\u001b[0m\u001b[0m\n\u001b[0;32m    252\u001b[0m     \"\"\"\n\u001b[1;32m--> 253\u001b[1;33m     \u001b[0my_type\u001b[0m\u001b[1;33m,\u001b[0m \u001b[0my_true\u001b[0m\u001b[1;33m,\u001b[0m \u001b[0my_pred\u001b[0m \u001b[1;33m=\u001b[0m \u001b[0m_check_targets\u001b[0m\u001b[1;33m(\u001b[0m\u001b[0my_true\u001b[0m\u001b[1;33m,\u001b[0m \u001b[0my_pred\u001b[0m\u001b[1;33m)\u001b[0m\u001b[1;33m\u001b[0m\u001b[1;33m\u001b[0m\u001b[0m\n\u001b[0m\u001b[0;32m    254\u001b[0m     \u001b[1;32mif\u001b[0m \u001b[0my_type\u001b[0m \u001b[1;32mnot\u001b[0m \u001b[1;32min\u001b[0m \u001b[1;33m(\u001b[0m\u001b[1;34m\"binary\"\u001b[0m\u001b[1;33m,\u001b[0m \u001b[1;34m\"multiclass\"\u001b[0m\u001b[1;33m)\u001b[0m\u001b[1;33m:\u001b[0m\u001b[1;33m\u001b[0m\u001b[1;33m\u001b[0m\u001b[0m\n\u001b[0;32m    255\u001b[0m         \u001b[1;32mraise\u001b[0m \u001b[0mValueError\u001b[0m\u001b[1;33m(\u001b[0m\u001b[1;34m\"%s is not supported\"\u001b[0m \u001b[1;33m%\u001b[0m \u001b[0my_type\u001b[0m\u001b[1;33m)\u001b[0m\u001b[1;33m\u001b[0m\u001b[1;33m\u001b[0m\u001b[0m\n",
      "\u001b[1;32m~\\Miniconda3\\envs\\machine_learning\\lib\\site-packages\\sklearn\\metrics\\classification.py\u001b[0m in \u001b[0;36m_check_targets\u001b[1;34m(y_true, y_pred)\u001b[0m\n\u001b[0;32m     79\u001b[0m     \u001b[1;32mif\u001b[0m \u001b[0mlen\u001b[0m\u001b[1;33m(\u001b[0m\u001b[0my_type\u001b[0m\u001b[1;33m)\u001b[0m \u001b[1;33m>\u001b[0m \u001b[1;36m1\u001b[0m\u001b[1;33m:\u001b[0m\u001b[1;33m\u001b[0m\u001b[1;33m\u001b[0m\u001b[0m\n\u001b[0;32m     80\u001b[0m         raise ValueError(\"Classification metrics can't handle a mix of {0} \"\n\u001b[1;32m---> 81\u001b[1;33m                          \"and {1} targets\".format(type_true, type_pred))\n\u001b[0m\u001b[0;32m     82\u001b[0m \u001b[1;33m\u001b[0m\u001b[0m\n\u001b[0;32m     83\u001b[0m     \u001b[1;31m# We can't have more than one value on y_type => The set is no more needed\u001b[0m\u001b[1;33m\u001b[0m\u001b[1;33m\u001b[0m\u001b[1;33m\u001b[0m\u001b[0m\n",
      "\u001b[1;31mValueError\u001b[0m: Classification metrics can't handle a mix of binary and continuous-multioutput targets"
     ]
    }
   ],
   "source": [
    "cm = confusion_matrix(test_training_labels, test_training_samples)\n",
    "cm_plot_labels = ['Margin Called', 'Clean']\n",
    "plot_confusion_matrix(cm, cm_plot_labels, title='Margin-called or not!!')"
   ]
  },
  {
   "cell_type": "code",
   "execution_count": null,
   "metadata": {},
   "outputs": [],
   "source": []
  }
 ],
 "metadata": {
  "kernelspec": {
   "display_name": "Python 3",
   "language": "python",
   "name": "python3"
  },
  "language_info": {
   "codemirror_mode": {
    "name": "ipython",
    "version": 3
   },
   "file_extension": ".py",
   "mimetype": "text/x-python",
   "name": "python",
   "nbconvert_exporter": "python",
   "pygments_lexer": "ipython3",
   "version": "3.7.3"
  }
 },
 "nbformat": 4,
 "nbformat_minor": 2
}
